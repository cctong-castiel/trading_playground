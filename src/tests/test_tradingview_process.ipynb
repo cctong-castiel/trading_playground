{
 "cells": [
  {
   "cell_type": "code",
   "execution_count": 1,
   "id": "465ec03f",
   "metadata": {},
   "outputs": [],
   "source": [
    "import os\n",
    "import pandas as pd\n",
    "import numpy as np\n",
    "from lightweight_charts import Chart\n",
    "import asyncio\n",
    "import yfinance as yf\n",
    "import nest_asyncio\n",
    "nest_asyncio.apply()"
   ]
  },
  {
   "cell_type": "markdown",
   "id": "6f170d0c",
   "metadata": {},
   "source": [
    "### download stock data"
   ]
  },
  {
   "cell_type": "code",
   "execution_count": 2,
   "id": "8688e900",
   "metadata": {},
   "outputs": [],
   "source": [
    "# input the stock code\n",
    "stock_code = input(\"Enter stock code (e.g., AAPL): \").strip().upper()\n",
    "if not stock_code:\n",
    "    print(\"No stock code provided. Exiting.\")\n",
    "    exit()\n",
    "\n",
    "# initialization\n",
    "stock_data_path = \"./data\"\n",
    "start_date = '2024-06-09'\n",
    "end_date = '2024-07-26'\n",
    "interval = '1d'\n",
    "save_flag = True\n",
    "excel_extensions = ['.xlsx', '.xls', '.xlsm', 'csv']"
   ]
  },
  {
   "cell_type": "code",
   "execution_count": 3,
   "id": "60ee3e98",
   "metadata": {},
   "outputs": [],
   "source": [
    "def contains_excel_file(path: str, filename: str) -> bool:\n",
    "    if not os.path.isdir(path):\n",
    "        print(\"Invalid directory path.\")\n",
    "        return False\n",
    "\n",
    "    for root, dirs, files in os.walk(path):\n",
    "        for file in files:\n",
    "            if filename.lower() == file.lower():\n",
    "                return True\n",
    "\n",
    "    print(\"No Excel files found.\")\n",
    "    return False\n",
    "\n",
    "def download_yf_data(stock_code: str, stock_data_path: str, start_date: str, end_date: str, interval: str = '1d', save_flag: bool = True) -> pd.DataFrame:\n",
    "    \"\"\"\n",
    "    Download stock data from Yahoo Finance.\n",
    "    \n",
    "    :param stock_code: Stock ticker symbol.\n",
    "    :param start_date: Start date for the data in 'YYYY-MM-DD' format.\n",
    "    :param end_date: End date for the data in 'YYYY-MM-DD' format.\n",
    "    :param interval: Data interval (default is '1d').\n",
    "    :return: DataFrame with stock data.\n",
    "    \"\"\"\n",
    "\n",
    "    data = yf.download([stock_code], start=start_date, end=end_date, interval=interval)\n",
    "    data = preprocess_stock_data(data)\n",
    "    if save_flag:\n",
    "        data.to_csv(f\"{stock_data_path}/{stock_code}_{end_date}.csv\")\n",
    "    return data\n",
    "\n",
    "def get_bar_data(stock_code: str, stock_data_path: str, start_date: str, end_date: str, interval: str = '1d', save_flag: bool = True) -> pd.DataFrame:\n",
    "    \"\"\"    Get bar data for a given stock symbol.\n",
    "    :param symbol: Stock ticker symbol.\n",
    "    :return: DataFrame with stock data or an empty DataFrame if no data is found\n",
    "    \"\"\"\n",
    "\n",
    "    if contains_excel_file(stock_data_path, f\"{stock_code}_{end_date}.csv\") is False:\n",
    "        print(f'No data for \"{stock_code}\" download it from Yahoo Finance')\n",
    "        return download_yf_data(stock_code=stock_code, stock_data_path=stock_data_path, start_date=start_date, end_date=end_date, interval=interval, save_flag=save_flag)\n",
    "    print(f'Get data for \"{stock_code}\" from {stock_data_path}')\n",
    "    return pd.read_csv(f'{stock_data_path}/{stock_code}_{end_date}.csv')\n",
    "\n",
    "# twist the stock data for downstream processing\n",
    "def preprocess_stock_data(data: pd.DataFrame) -> pd.DataFrame:\n",
    "    \"\"\"\n",
    "    Preprocess stock data to have a consistent format.\n",
    "    \n",
    "    :param data: DataFrame with stock data.\n",
    "    :return: Preprocessed DataFrame.\n",
    "    \"\"\"\n",
    "    data = data.reset_index()\n",
    "    data.columns = data.columns.droplevel(1)\n",
    "    data.rename(columns={\n",
    "        'Date': 'time',\n",
    "        'Open': 'open',\n",
    "        'High': 'high',\n",
    "        'Low': 'low',\n",
    "        'Close': 'close',\n",
    "        'Volume': 'volume'\n",
    "    }, inplace=True)\n",
    "    return data\n",
    "\n",
    "def on_search(chart, searched_string):  # Called when the user searches.\n",
    "    new_data = get_bar_data(searched_string, stock_data_path, start_date, end_date, interval, save_flag)\n",
    "    if new_data.empty:\n",
    "        return\n",
    "    chart.topbar['symbol'].set(searched_string)\n",
    "    chart.set(new_data)\n",
    "\n",
    "def on_timeframe_selection(chart):  # Called when the user changes the timeframe.\n",
    "    new_data = get_bar_data(stock_code, stock_data_path, start_date, end_date, interval, save_flag)\n",
    "    if new_data.empty:\n",
    "        return\n",
    "    chart.set(new_data, True)\n",
    "\n",
    "def on_timeframe_selection(chart):  # Called when the user changes the timeframe.\n",
    "    new_data = get_bar_data(stock_code, stock_data_path, start_date, end_date, interval, save_flag)\n",
    "    if new_data.empty:\n",
    "        return\n",
    "    chart.set(new_data, True)\n",
    "\n",
    "def on_horizontal_line_move(chart, line):\n",
    "    print(f'Horizontal line moved to: {line.price}')\n"
   ]
  },
  {
   "cell_type": "code",
   "execution_count": 4,
   "id": "ed46d4b6",
   "metadata": {},
   "outputs": [
    {
     "name": "stdout",
     "output_type": "stream",
     "text": [
      "No Excel files found.\n",
      "No data for \"AAPL\" download it from Yahoo Finance\n"
     ]
    },
    {
     "name": "stderr",
     "output_type": "stream",
     "text": [
      "/var/folders/2w/3x_dqx25277_kfl6xbpr7gvr0000gn/T/ipykernel_4412/2005638316.py:25: FutureWarning: YF.download() has changed argument auto_adjust default to True\n",
      "  data = yf.download([stock_code], start=start_date, end=end_date, interval=interval)\n",
      "[*********************100%***********************]  1 of 1 completed\n"
     ]
    }
   ],
   "source": [
    "data = get_bar_data(stock_code, stock_data_path, start_date, end_date, interval, save_flag)"
   ]
  },
  {
   "cell_type": "markdown",
   "id": "54d075f1",
   "metadata": {},
   "source": [
    "### Plot TradingView Chart"
   ]
  },
  {
   "cell_type": "code",
   "execution_count": 5,
   "id": "803a1835",
   "metadata": {},
   "outputs": [],
   "source": [
    "chart = Chart()\n",
    "\n",
    "# UI setting\n",
    "chart.grid(vert_enabled = True, horz_enabled = True)\n",
    "chart.layout(background_color='#131722', font_family='Trebuchet MS', font_size = 16)\n",
    "# chart.candle_style(up_color='#2962ff', down_color='#e91e63',\n",
    "#                    border_up_color='#2962ffcb', border_down_color='#e91e63cb',\n",
    "#                    wick_up_color='#2962ffcb', wick_down_color='#e91e63cb')\n",
    "chart.volume_config(up_color='#2962ffcb', down_color='#e91e63cb')\n",
    "chart.name = stock_code\n",
    "chart.legend(visible=True, font_family='Trebuchet MS', ohlc=True, percent=True)\n",
    "chart.events.search += on_search\n",
    "chart.topbar.textbox('symbol', stock_code)\n",
    "chart.horizontal_line(200, func=on_horizontal_line_move)\n",
    "chart.set(data)"
   ]
  },
  {
   "cell_type": "markdown",
   "id": "fccb4bc4",
   "metadata": {},
   "source": [
    "### Implement SMA"
   ]
  },
  {
   "cell_type": "code",
   "execution_count": 6,
   "id": "84bfac77",
   "metadata": {},
   "outputs": [],
   "source": [
    "# implement the sma\n",
    "def calculate_sma_df(df, period: int = 50):\n",
    "    return pd.DataFrame({\n",
    "        'time': df['time'],\n",
    "        f'SMA {period}': df['close'].rolling(window=period).mean()\n",
    "    }).fillna(0)\n",
    "\n",
    "sma9_line = chart.create_line(name='SMA 9', color='#ffeb3b', width=1, price_label=False)\n",
    "sma9_data = calculate_sma_df(data, period=9)\n",
    "sma9_line.set(sma9_data)\n",
    "\n",
    "sma4_line = chart.create_line(name='SMA 4', color =\"#5f3bff\", width=1, price_label=False)\n",
    "sma4_data = calculate_sma_df(data, period=4)\n",
    "sma4_line.set(sma4_data)"
   ]
  },
  {
   "cell_type": "markdown",
   "id": "e12531e5",
   "metadata": {},
   "source": [
    "### Implement Donchian Channels"
   ]
  },
  {
   "cell_type": "code",
   "execution_count": 7,
   "id": "f5bf4d7e",
   "metadata": {},
   "outputs": [],
   "source": [
    "# implement the doncian channels to lightweight_charts Chart object\n",
    "def calculate_donchian_channels_df(df, period: int = 20):\n",
    "    high = df['high'].rolling(window=period).max()\n",
    "    low = df['low'].rolling(window=period).min()\n",
    "    mean = (high + low) / 2\n",
    "    return pd.DataFrame({\n",
    "        'time': df['time'],\n",
    "        f'Upper Donchian {period}': high.fillna(0),\n",
    "        f'Mean Donchian {period}': mean.fillna(0),\n",
    "        f'Lower Donchian {period}': low.fillna(0)\n",
    "    })\n",
    "\n",
    "donchian20_data = calculate_donchian_channels_df(data, period=20)\n",
    "donchian20_upper_line = chart.create_line(name='Upper Donchian 20', color=\"#00ff11\", width=1, price_line=False, price_label=False)\n",
    "donchian20_lower_line = chart.create_line(name='Lower Donchian 20', color=\"#ff4800\", width=1, price_line=False, price_label=False)\n",
    "donchian20_mean_line = chart.create_line(name='Mean Donchian 20', color=\"#ffffff\", width=1, price_line=False, price_label=False)\n",
    "donchian20_upper_line.set(donchian20_data)\n",
    "donchian20_lower_line.set(donchian20_data)\n",
    "donchian20_mean_line.set(donchian20_data)"
   ]
  },
  {
   "cell_type": "markdown",
   "id": "02f5ed96",
   "metadata": {},
   "source": [
    "### Implement Bollinger Bands"
   ]
  },
  {
   "cell_type": "code",
   "execution_count": 8,
   "id": "f045ca30",
   "metadata": {},
   "outputs": [],
   "source": [
    "# implement the bollinger bands to lightweight_charts Chart object\n",
    "def calculate_bollinger_bands_df(df, period: int = 20, num_std_dev: int = 2):\n",
    "    sma = df['close'].rolling(window=period).mean()\n",
    "    rolling_std = df['close'].rolling(window=period).std()\n",
    "    upper_band = sma + (rolling_std * num_std_dev)\n",
    "    lower_band = sma - (rolling_std * num_std_dev)      \n",
    "    return pd.DataFrame({\n",
    "        'time': df['time'],\n",
    "        f'Upper Bollinger {period}': upper_band.fillna(0),\n",
    "        f'Mean Bollinger {period}': sma.fillna(0),\n",
    "        f'Lower Bollinger {period}': lower_band.fillna(0)\n",
    "    })\n",
    "\n",
    "bollinger20_data = calculate_bollinger_bands_df(data, period=20, num_std_dev=2)\n",
    "bollinger20_upper_line = chart.create_line(name='Upper Bollinger 20', color=\"#00fff2\", width=1, price_line=False, price_label=False)\n",
    "bollinger20_lower_line = chart.create_line(name='Lower Bollinger 20', color=\"#ff0000\", width=1, price_line=False, price_label=False)\n",
    "bollinger20_mean_line = chart.create_line(name='Mean Bollinger 20', color=\"#ffffff\", width=1, price_line=False, price_label=False)\n",
    "bollinger20_upper_line.set(bollinger20_data)\n",
    "bollinger20_lower_line.set(bollinger20_data)\n",
    "bollinger20_mean_line.set(bollinger20_data)"
   ]
  },
  {
   "cell_type": "markdown",
   "id": "e2aae859",
   "metadata": {},
   "source": [
    "### Implement RSI"
   ]
  },
  {
   "cell_type": "code",
   "execution_count": 9,
   "id": "c92f04f6",
   "metadata": {},
   "outputs": [],
   "source": [
    "# implement the RSI\n",
    "def calculate_rsi_df(df, period=14, close_col='close'):\n",
    "    df['close_new'] = df[close_col]  # Adjust close prices\n",
    "    delta = df[close_col].diff()\n",
    "    gain = (delta.where(delta > 0, 0)).rolling(window=period).mean()\n",
    "    loss = (-delta.where(delta < 0, 0)).rolling(window=period).mean()\n",
    "    rs = gain / loss\n",
    "    rsi = 100 - (100 / (1 + rs))\n",
    "\n",
    "    # plot 30% and 70% lines\n",
    "    return pd.DataFrame({\n",
    "        'time': df['time'],\n",
    "        'RSI': rsi.fillna(0),\n",
    "        'RSI 30%': [30] * len(df),\n",
    "        'RSI 70%': [70] * len(df)\n",
    "    })\n",
    "\n",
    "rsi_data = calculate_rsi_df(data, period=14)\n",
    "rsi_line = chart.create_line(name='RSI', color=\"#ff00ff\", width=1, price_line=False, price_label=False)\n",
    "rsi_30_line = chart.create_line(name='RSI 30%', color=\"#ff0000\", width=1, price_line=False, price_label=False)\n",
    "rsi_70_line = chart.create_line(name='RSI 70%', color=\"#00ff00\", width=1, price_line=False, price_label=False)\n",
    "rsi_30_line.set(rsi_data)\n",
    "rsi_70_line.set(rsi_data)\n",
    "rsi_line.set(rsi_data)  "
   ]
  },
  {
   "cell_type": "markdown",
   "id": "835071ae",
   "metadata": {},
   "source": [
    "### Implement Stochastic Oscillator"
   ]
  },
  {
   "cell_type": "code",
   "execution_count": 10,
   "id": "7634650a",
   "metadata": {},
   "outputs": [],
   "source": [
    "# implement the stochastic oscillator\n",
    "def calculate_stochastic_oscillator_df(df, period=14):\n",
    "\n",
    "    df['low_new'] = df['low']\n",
    "    df['high_new'] = df['high']\n",
    "    df['close_new'] = df['close']\n",
    "    low_min = df['low_new'].rolling(window=period).min()\n",
    "    high_max = df['high_new'].rolling(window=period).max()\n",
    "    k_percent = 100 * ((df['close_new'] - low_min) / (high_max - low_min))\n",
    "    d_percent = k_percent.rolling(window=3).mean()\n",
    "\n",
    "    return pd.DataFrame({\n",
    "        'time': df['time'],\n",
    "        '%K': k_percent.fillna(0),\n",
    "        '%D': d_percent.fillna(0),\n",
    "        'Stochastic 20%': [20] * len(df),\n",
    "        'Stochastic 80%': [80] * len(df)\n",
    "    })\n",
    "\n",
    "stochastic_data = calculate_stochastic_oscillator_df(data, period=14)\n",
    "stochastic_k_line = chart.create_line(name='%K', color=\"#ff00ff\", width=1, price_line=False, price_label=False)\n",
    "stochastic_d_line = chart.create_line(name='%D', color=\"#00ffff\", width=1, price_line=False, price_label=False)\n",
    "stochastic_20_line = chart.create_line(name='Stochastic 20%', color=\"#ff0000\", width=1, price_line=False, price_label=False)\n",
    "stochastic_80_line = chart.create_line(name='Stochastic 80%', color=\"#00ff00\", width=1, price_line=False, price_label=False)\n",
    "stochastic_k_line.set(stochastic_data)\n",
    "stochastic_d_line.set(stochastic_data)\n",
    "stochastic_20_line.set(stochastic_data)\n",
    "stochastic_80_line.set(stochastic_data)"
   ]
  },
  {
   "cell_type": "markdown",
   "id": "7a0189fa",
   "metadata": {},
   "source": [
    "### show the graph"
   ]
  },
  {
   "cell_type": "code",
   "execution_count": 11,
   "id": "ff1cea49",
   "metadata": {},
   "outputs": [
    {
     "name": "stdout",
     "output_type": "stream",
     "text": [
      "Get data for \"TSM\" from ./data\n"
     ]
    }
   ],
   "source": [
    "chart.show(block=True)"
   ]
  },
  {
   "cell_type": "markdown",
   "id": "4d01129b",
   "metadata": {},
   "source": [
    "# Test showing graphs into different separated parts"
   ]
  },
  {
   "cell_type": "code",
   "execution_count": 3,
   "id": "42096674",
   "metadata": {},
   "outputs": [],
   "source": [
    "!export PYTHONPATH=."
   ]
  },
  {
   "cell_type": "code",
   "execution_count": 1,
   "id": "7e34fe61",
   "metadata": {},
   "outputs": [],
   "source": [
    "import os\n",
    "import pandas as pd\n",
    "import numpy as np\n",
    "from lightweight_charts import Chart\n",
    "import yfinance as yf\n",
    "import datetime\n",
    "from dateutil.relativedelta import relativedelta\n",
    "import sys\n",
    "sys.path.append('/Users/tongcc/dev/projects/trading')\n",
    "\n",
    "# create a class to wrap the above script and plot the chart. Also use stochastic_oscillator.py and rsi.py to add these 2 indicators\n",
    "from src.trading_funcs.indicators.rsi import RSI\n",
    "from src.trading_funcs.indicators.stochastic_oscillator import StochasticOscillator\n",
    "from src.trading_funcs.indicators.sma import SMA\n",
    "from src.trading_funcs.indicators.donchian_channels import DonchianChannels\n",
    "from src.trading_funcs.indicators.bollinger_bands import BollingerBands"
   ]
  },
  {
   "cell_type": "code",
   "execution_count": 2,
   "id": "50679a14",
   "metadata": {},
   "outputs": [],
   "source": [
    "# input the stock code\n",
    "stock_code = input(\"Enter stock code (e.g., AAPL): \").strip().upper()\n",
    "if not stock_code:\n",
    "    print(\"No stock code provided. Exiting.\")\n",
    "    exit()\n",
    "\n",
    "# initialization\n",
    "stock_data_path = \"./data\"\n",
    "start_date = '2024-06-09'\n",
    "end_date = '2024-07-26'\n",
    "interval = '1d'\n",
    "save_flag = True\n",
    "excel_extensions = ['.xlsx', '.xls', '.xlsm', 'csv']"
   ]
  },
  {
   "cell_type": "code",
   "execution_count": 3,
   "id": "dc370e3c",
   "metadata": {},
   "outputs": [],
   "source": [
    "def contains_excel_file(path: str, filename: str) -> bool:\n",
    "    if not os.path.isdir(path):\n",
    "        print(\"Invalid directory path.\")\n",
    "        return False\n",
    "\n",
    "    for root, dirs, files in os.walk(path):\n",
    "        for file in files:\n",
    "            if filename.lower() == file.lower():\n",
    "                return True\n",
    "\n",
    "    print(\"No Excel files found.\")\n",
    "    return False\n",
    "\n",
    "def download_yf_data(stock_code: str, stock_data_path: str, start_date: str, end_date: str, interval: str = '1d', save_flag: bool = True) -> pd.DataFrame:\n",
    "    \"\"\"\n",
    "    Download stock data from Yahoo Finance.\n",
    "    \n",
    "    :param stock_code: Stock ticker symbol.\n",
    "    :param start_date: Start date for the data in 'YYYY-MM-DD' format.\n",
    "    :param end_date: End date for the data in 'YYYY-MM-DD' format.\n",
    "    :param interval: Data interval (default is '1d').\n",
    "    :return: DataFrame with stock data.\n",
    "    \"\"\"\n",
    "\n",
    "    data = yf.download([stock_code], start=start_date, end=end_date, interval=interval)\n",
    "    data = preprocess_stock_data(data)\n",
    "    if save_flag:\n",
    "        data.to_csv(f\"{stock_data_path}/{stock_code}_{end_date}.csv\")\n",
    "    return data\n",
    "\n",
    "def get_bar_data(stock_code: str, stock_data_path: str, start_date: str, end_date: str, interval: str = '1d', save_flag: bool = True) -> pd.DataFrame:\n",
    "    \"\"\"    Get bar data for a given stock symbol.\n",
    "    :param symbol: Stock ticker symbol.\n",
    "    :return: DataFrame with stock data or an empty DataFrame if no data is found\n",
    "    \"\"\"\n",
    "\n",
    "    if contains_excel_file(stock_data_path, f\"{stock_code}_{end_date}.csv\") is False:\n",
    "        print(f'No data for \"{stock_code}\" download it from Yahoo Finance')\n",
    "        return download_yf_data(stock_code=stock_code, stock_data_path=stock_data_path, start_date=start_date, end_date=end_date, interval=interval, save_flag=save_flag)\n",
    "    print(f'Get data for \"{stock_code}\" from {stock_data_path}')\n",
    "    return pd.read_csv(f'{stock_data_path}/{stock_code}_{end_date}.csv')\n",
    "\n",
    "# twist the stock data for downstream processing\n",
    "def preprocess_stock_data(data: pd.DataFrame) -> pd.DataFrame:\n",
    "    \"\"\"\n",
    "    Preprocess stock data to have a consistent format.\n",
    "    \n",
    "    :param data: DataFrame with stock data.\n",
    "    :return: Preprocessed DataFrame.\n",
    "    \"\"\"\n",
    "    data = data.reset_index()\n",
    "    data.columns = data.columns.droplevel(1)\n",
    "    data.rename(columns={\n",
    "        'Date': 'time',\n",
    "        'Open': 'open',\n",
    "        'High': 'high',\n",
    "        'Low': 'low',\n",
    "        'Close': 'close',\n",
    "        'Volume': 'volume'\n",
    "    }, inplace=True)\n",
    "    return data\n",
    "\n",
    "def on_search(chart, searched_string):  # Called when the user searches.\n",
    "    new_data = get_bar_data(searched_string, stock_data_path, start_date, end_date, interval, save_flag)\n",
    "    if new_data.empty:\n",
    "        return\n",
    "    chart.topbar['symbol'].set(searched_string)\n",
    "    chart.set(new_data)\n",
    "\n",
    "def on_timeframe_selection(chart):  # Called when the user changes the timeframe.\n",
    "    new_data = get_bar_data(stock_code, stock_data_path, start_date, end_date, interval, save_flag)\n",
    "    if new_data.empty:\n",
    "        return\n",
    "    chart.set(new_data, True)\n",
    "\n",
    "def on_timeframe_selection(chart):  # Called when the user changes the timeframe.\n",
    "    new_data = get_bar_data(stock_code, stock_data_path, start_date, end_date, interval, save_flag)\n",
    "    if new_data.empty:\n",
    "        return\n",
    "    chart.set(new_data, True)\n",
    "\n",
    "def on_horizontal_line_move(chart, line):\n",
    "    print(f'Horizontal line moved to: {line.price}')\n"
   ]
  },
  {
   "cell_type": "code",
   "execution_count": 4,
   "id": "7fe45124",
   "metadata": {},
   "outputs": [
    {
     "name": "stdout",
     "output_type": "stream",
     "text": [
      "Get data for \"AAPL\" from ./data\n"
     ]
    }
   ],
   "source": [
    "data = get_bar_data(stock_code, stock_data_path, start_date, end_date, interval, save_flag)"
   ]
  },
  {
   "cell_type": "code",
   "execution_count": 5,
   "id": "0b66c550",
   "metadata": {},
   "outputs": [],
   "source": [
    "ohlc_chart = Chart(toolbox=True)\n",
    "ohlc_chart.layout(background_color='#131722', font_family='Trebuchet MS', font_size=16)\n",
    "ohlc_chart.volume_config(up_color='#2962ffcb', down_color='#e91e63cb')\n",
    "ohlc_chart.name = stock_code\n",
    "ohlc_chart.set(data)\n",
    "# ohlc_chart.show(block=False)"
   ]
  },
  {
   "cell_type": "code",
   "execution_count": 6,
   "id": "300d3ae5",
   "metadata": {},
   "outputs": [],
   "source": [
    "# implement the RSI\n",
    "def calculate_rsi_df(df, period=14, close_col='close'):\n",
    "    df['close_new'] = df[close_col]  # Adjust close prices\n",
    "    delta = df[close_col].diff()\n",
    "    gain = (delta.where(delta > 0, 0)).rolling(window=period).mean()\n",
    "    loss = (-delta.where(delta < 0, 0)).rolling(window=period).mean()\n",
    "    rs = gain / loss\n",
    "    rsi = 100 - (100 / (1 + rs))\n",
    "\n",
    "    # plot 30% and 70% lines\n",
    "    return pd.DataFrame({\n",
    "        'time': df['time'],\n",
    "        'RSI': rsi.fillna(0),\n",
    "        'RSI 30%': [30] * len(df),\n",
    "        'RSI 70%': [70] * len(df)\n",
    "    })\n",
    "\n",
    "\n",
    "rsi_chart = Chart(toolbox=True)\n",
    "rsi_chart.layout(background_color='#131722', font_family='Trebuchet MS', font_size=16)\n",
    "rsi_chart.name = f\"{stock_code} (RSI)\"\n",
    "rsi = RSI()\n",
    "rsi_data = rsi.calculate_indicator_df(data)\n",
    "rsi_chart.create_line(name='RSI', color=\"#ff4500\", width=1).set(rsi_data)\n",
    "# rsi_chart.show(block=False)"
   ]
  },
  {
   "cell_type": "code",
   "execution_count": 7,
   "id": "55a871fe",
   "metadata": {},
   "outputs": [],
   "source": [
    "def _show_chart(chart: \"Chart\") -> None:  # type: ignore\n",
    "    \"\"\"Show a lightweight_charts Chart in a dedicated process.\"\"\"\n",
    "    chart.show(block=True)"
   ]
  },
  {
   "cell_type": "code",
   "execution_count": 8,
   "id": "794f4740",
   "metadata": {},
   "outputs": [],
   "source": [
    "import multiprocessing as mp\n",
    "\n",
    "processes = [\n",
    "            mp.Process(target=_show_chart, args=(ohlc_chart,)),\n",
    "            mp.Process(target=_show_chart, args=(rsi_chart,)),\n",
    "]"
   ]
  },
  {
   "cell_type": "code",
   "execution_count": 9,
   "id": "c3b5cdc4",
   "metadata": {},
   "outputs": [
    {
     "ename": "AttributeError",
     "evalue": "Can't get local object 'Chart.__init__.<locals>.<lambda>'",
     "output_type": "error",
     "traceback": [
      "\u001b[31m---------------------------------------------------------------------------\u001b[39m",
      "\u001b[31mAttributeError\u001b[39m                            Traceback (most recent call last)",
      "\u001b[36mCell\u001b[39m\u001b[36m \u001b[39m\u001b[32mIn[9]\u001b[39m\u001b[32m, line 2\u001b[39m\n\u001b[32m      1\u001b[39m \u001b[38;5;28;01mfor\u001b[39;00m p \u001b[38;5;129;01min\u001b[39;00m processes:\n\u001b[32m----> \u001b[39m\u001b[32m2\u001b[39m     \u001b[43mp\u001b[49m\u001b[43m.\u001b[49m\u001b[43mstart\u001b[49m\u001b[43m(\u001b[49m\u001b[43m)\u001b[49m\n\u001b[32m      3\u001b[39m \u001b[38;5;28;01mfor\u001b[39;00m p \u001b[38;5;129;01min\u001b[39;00m processes:\n\u001b[32m      4\u001b[39m     p.join()\n",
      "\u001b[36mFile \u001b[39m\u001b[32m~/miniconda3/envs/tradingview/lib/python3.13/multiprocessing/process.py:121\u001b[39m, in \u001b[36mBaseProcess.start\u001b[39m\u001b[34m(self)\u001b[39m\n\u001b[32m    118\u001b[39m \u001b[38;5;28;01massert\u001b[39;00m \u001b[38;5;129;01mnot\u001b[39;00m _current_process._config.get(\u001b[33m'\u001b[39m\u001b[33mdaemon\u001b[39m\u001b[33m'\u001b[39m), \\\n\u001b[32m    119\u001b[39m        \u001b[33m'\u001b[39m\u001b[33mdaemonic processes are not allowed to have children\u001b[39m\u001b[33m'\u001b[39m\n\u001b[32m    120\u001b[39m _cleanup()\n\u001b[32m--> \u001b[39m\u001b[32m121\u001b[39m \u001b[38;5;28mself\u001b[39m._popen = \u001b[38;5;28;43mself\u001b[39;49m\u001b[43m.\u001b[49m\u001b[43m_Popen\u001b[49m\u001b[43m(\u001b[49m\u001b[38;5;28;43mself\u001b[39;49m\u001b[43m)\u001b[49m\n\u001b[32m    122\u001b[39m \u001b[38;5;28mself\u001b[39m._sentinel = \u001b[38;5;28mself\u001b[39m._popen.sentinel\n\u001b[32m    123\u001b[39m \u001b[38;5;66;03m# Avoid a refcycle if the target function holds an indirect\u001b[39;00m\n\u001b[32m    124\u001b[39m \u001b[38;5;66;03m# reference to the process object (see bpo-30775)\u001b[39;00m\n",
      "\u001b[36mFile \u001b[39m\u001b[32m~/miniconda3/envs/tradingview/lib/python3.13/multiprocessing/context.py:224\u001b[39m, in \u001b[36mProcess._Popen\u001b[39m\u001b[34m(process_obj)\u001b[39m\n\u001b[32m    222\u001b[39m \u001b[38;5;129m@staticmethod\u001b[39m\n\u001b[32m    223\u001b[39m \u001b[38;5;28;01mdef\u001b[39;00m\u001b[38;5;250m \u001b[39m\u001b[34m_Popen\u001b[39m(process_obj):\n\u001b[32m--> \u001b[39m\u001b[32m224\u001b[39m     \u001b[38;5;28;01mreturn\u001b[39;00m \u001b[43m_default_context\u001b[49m\u001b[43m.\u001b[49m\u001b[43mget_context\u001b[49m\u001b[43m(\u001b[49m\u001b[43m)\u001b[49m\u001b[43m.\u001b[49m\u001b[43mProcess\u001b[49m\u001b[43m.\u001b[49m\u001b[43m_Popen\u001b[49m\u001b[43m(\u001b[49m\u001b[43mprocess_obj\u001b[49m\u001b[43m)\u001b[49m\n",
      "\u001b[36mFile \u001b[39m\u001b[32m~/miniconda3/envs/tradingview/lib/python3.13/multiprocessing/context.py:289\u001b[39m, in \u001b[36mSpawnProcess._Popen\u001b[39m\u001b[34m(process_obj)\u001b[39m\n\u001b[32m    286\u001b[39m \u001b[38;5;129m@staticmethod\u001b[39m\n\u001b[32m    287\u001b[39m \u001b[38;5;28;01mdef\u001b[39;00m\u001b[38;5;250m \u001b[39m\u001b[34m_Popen\u001b[39m(process_obj):\n\u001b[32m    288\u001b[39m     \u001b[38;5;28;01mfrom\u001b[39;00m\u001b[38;5;250m \u001b[39m\u001b[34;01m.\u001b[39;00m\u001b[34;01mpopen_spawn_posix\u001b[39;00m\u001b[38;5;250m \u001b[39m\u001b[38;5;28;01mimport\u001b[39;00m Popen\n\u001b[32m--> \u001b[39m\u001b[32m289\u001b[39m     \u001b[38;5;28;01mreturn\u001b[39;00m \u001b[43mPopen\u001b[49m\u001b[43m(\u001b[49m\u001b[43mprocess_obj\u001b[49m\u001b[43m)\u001b[49m\n",
      "\u001b[36mFile \u001b[39m\u001b[32m~/miniconda3/envs/tradingview/lib/python3.13/multiprocessing/popen_spawn_posix.py:32\u001b[39m, in \u001b[36mPopen.__init__\u001b[39m\u001b[34m(self, process_obj)\u001b[39m\n\u001b[32m     30\u001b[39m \u001b[38;5;28;01mdef\u001b[39;00m\u001b[38;5;250m \u001b[39m\u001b[34m__init__\u001b[39m(\u001b[38;5;28mself\u001b[39m, process_obj):\n\u001b[32m     31\u001b[39m     \u001b[38;5;28mself\u001b[39m._fds = []\n\u001b[32m---> \u001b[39m\u001b[32m32\u001b[39m     \u001b[38;5;28;43msuper\u001b[39;49m\u001b[43m(\u001b[49m\u001b[43m)\u001b[49m\u001b[43m.\u001b[49m\u001b[34;43m__init__\u001b[39;49m\u001b[43m(\u001b[49m\u001b[43mprocess_obj\u001b[49m\u001b[43m)\u001b[49m\n",
      "\u001b[36mFile \u001b[39m\u001b[32m~/miniconda3/envs/tradingview/lib/python3.13/multiprocessing/popen_fork.py:20\u001b[39m, in \u001b[36mPopen.__init__\u001b[39m\u001b[34m(self, process_obj)\u001b[39m\n\u001b[32m     18\u001b[39m \u001b[38;5;28mself\u001b[39m.returncode = \u001b[38;5;28;01mNone\u001b[39;00m\n\u001b[32m     19\u001b[39m \u001b[38;5;28mself\u001b[39m.finalizer = \u001b[38;5;28;01mNone\u001b[39;00m\n\u001b[32m---> \u001b[39m\u001b[32m20\u001b[39m \u001b[38;5;28;43mself\u001b[39;49m\u001b[43m.\u001b[49m\u001b[43m_launch\u001b[49m\u001b[43m(\u001b[49m\u001b[43mprocess_obj\u001b[49m\u001b[43m)\u001b[49m\n",
      "\u001b[36mFile \u001b[39m\u001b[32m~/miniconda3/envs/tradingview/lib/python3.13/multiprocessing/popen_spawn_posix.py:47\u001b[39m, in \u001b[36mPopen._launch\u001b[39m\u001b[34m(self, process_obj)\u001b[39m\n\u001b[32m     45\u001b[39m \u001b[38;5;28;01mtry\u001b[39;00m:\n\u001b[32m     46\u001b[39m     reduction.dump(prep_data, fp)\n\u001b[32m---> \u001b[39m\u001b[32m47\u001b[39m     \u001b[43mreduction\u001b[49m\u001b[43m.\u001b[49m\u001b[43mdump\u001b[49m\u001b[43m(\u001b[49m\u001b[43mprocess_obj\u001b[49m\u001b[43m,\u001b[49m\u001b[43m \u001b[49m\u001b[43mfp\u001b[49m\u001b[43m)\u001b[49m\n\u001b[32m     48\u001b[39m \u001b[38;5;28;01mfinally\u001b[39;00m:\n\u001b[32m     49\u001b[39m     set_spawning_popen(\u001b[38;5;28;01mNone\u001b[39;00m)\n",
      "\u001b[36mFile \u001b[39m\u001b[32m~/miniconda3/envs/tradingview/lib/python3.13/multiprocessing/reduction.py:60\u001b[39m, in \u001b[36mdump\u001b[39m\u001b[34m(obj, file, protocol)\u001b[39m\n\u001b[32m     58\u001b[39m \u001b[38;5;28;01mdef\u001b[39;00m\u001b[38;5;250m \u001b[39m\u001b[34mdump\u001b[39m(obj, file, protocol=\u001b[38;5;28;01mNone\u001b[39;00m):\n\u001b[32m     59\u001b[39m \u001b[38;5;250m    \u001b[39m\u001b[33;03m'''Replacement for pickle.dump() using ForkingPickler.'''\u001b[39;00m\n\u001b[32m---> \u001b[39m\u001b[32m60\u001b[39m     \u001b[43mForkingPickler\u001b[49m\u001b[43m(\u001b[49m\u001b[43mfile\u001b[49m\u001b[43m,\u001b[49m\u001b[43m \u001b[49m\u001b[43mprotocol\u001b[49m\u001b[43m)\u001b[49m\u001b[43m.\u001b[49m\u001b[43mdump\u001b[49m\u001b[43m(\u001b[49m\u001b[43mobj\u001b[49m\u001b[43m)\u001b[49m\n",
      "\u001b[31mAttributeError\u001b[39m: Can't get local object 'Chart.__init__.<locals>.<lambda>'"
     ]
    }
   ],
   "source": [
    "for p in processes:\n",
    "    p.start()\n",
    "for p in processes:\n",
    "    p.join()"
   ]
  },
  {
   "cell_type": "code",
   "execution_count": null,
   "id": "546e4f82",
   "metadata": {},
   "outputs": [],
   "source": [
    "Chart.wait_for_close()"
   ]
  },
  {
   "cell_type": "code",
   "execution_count": null,
   "id": "53fec8e4",
   "metadata": {},
   "outputs": [],
   "source": []
  },
  {
   "cell_type": "code",
   "execution_count": null,
   "id": "c3338be3",
   "metadata": {},
   "outputs": [],
   "source": []
  }
 ],
 "metadata": {
  "kernelspec": {
   "display_name": "tradingview",
   "language": "python",
   "name": "python3"
  },
  "language_info": {
   "codemirror_mode": {
    "name": "ipython",
    "version": 3
   },
   "file_extension": ".py",
   "mimetype": "text/x-python",
   "name": "python",
   "nbconvert_exporter": "python",
   "pygments_lexer": "ipython3",
   "version": "3.13.4"
  }
 },
 "nbformat": 4,
 "nbformat_minor": 5
}
